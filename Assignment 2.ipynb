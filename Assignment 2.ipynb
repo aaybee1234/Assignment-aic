{
 "cells": [
  {
   "cell_type": "code",
   "execution_count": 15,
   "metadata": {},
   "outputs": [
    {
     "name": "stdout",
     "output_type": "stream",
     "text": [
      "Enter Students Name Abubakr\n",
      "Marks obtained in English 75\n",
      "Marks obtained in P.st 60\n",
      "Marks obtained in Maths 60\n",
      "Marks obtained in Islamiyat 40\n",
      "Marks obtained in Physics 67\n",
      "Marks obtained in Urdu 70\n",
      "\n"
     ]
    }
   ],
   "source": [
    "import csv\n",
    "Studentname = input(\"Enter Students Name \")\n",
    "English = float(input(\"Marks obtained in English \"))\n",
    "Pst = float(input(\"Marks obtained in P.st \"))\n",
    "Maths = float(input(\"Marks obtained in Maths \"))\n",
    "Islamiyat = float(input(\"Marks obtained in Islamiyat \"))\n",
    "Physics = float(input(\"Marks obtained in Physics \"))\n",
    "Urdu = float(input(\"Marks obtained in Urdu \"))\n",
    "TotalMarks = 600\n",
    "Marksobtained = English + Pst + Maths + Islamiyat + Physics + Urdu\n",
    "\n",
    "Grade = ''\n",
    "print(Grade)\n",
    "Percentage = float(Marksobtained / TotalMarks * 100)\n",
    "\n",
    "if(Percentage>=80):\n",
    "    Grade='A'\n",
    "elif(Percentage>=70 and Percentage<80):\n",
    "    Grade='B'\n",
    "elif(Percentage>=60 and Percentage<70):\n",
    "    Grade='C'\n",
    "elif(Percentage>=50 and Percentage<60):\n",
    "    Grade='D'\n",
    "elif(Percentage>=40 and Percentage<50):\n",
    "    Grade='E'\n",
    "else:\n",
    "    Grade='F'\n",
    "\n",
    "Data = [Studentname,English,Pst,Maths,Islamiyat,Physics,Urdu,Marksobtained,TotalMarks,float(Percentage),Grade]\n",
    "\n",
    "with open(\"Marks.csv\",\"w\" ,newline=\"\") as d:\n",
    "\n",
    "        file_handler = csv.writer(d, delimiter=',')    \n",
    "        \n",
    "        file_handler.writerow([\"Studentname\",\"English\",\"P.st\",\"Maths\",\"Islamiyat\",\"Physics\",\"Urdu\",\"Obtained Marks\",\"Total Marks\",\"Percentage\",\"Grade\"])\n",
    "        file_handler.writerow(Data)"
   ]
  },
  {
   "cell_type": "markdown",
   "metadata": {},
   "source": [
    "##### "
   ]
  }
 ],
 "metadata": {
  "kernelspec": {
   "display_name": "Python 3",
   "language": "python",
   "name": "python3"
  },
  "language_info": {
   "codemirror_mode": {
    "name": "ipython",
    "version": 3
   },
   "file_extension": ".py",
   "mimetype": "text/x-python",
   "name": "python",
   "nbconvert_exporter": "python",
   "pygments_lexer": "ipython3",
   "version": "3.7.3"
  }
 },
 "nbformat": 4,
 "nbformat_minor": 2
}
