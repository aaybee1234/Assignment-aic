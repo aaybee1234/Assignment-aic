{
 "cells": [
  {
   "cell_type": "code",
   "execution_count": 1,
   "metadata": {},
   "outputs": [
    {
     "name": "stdout",
     "output_type": "stream",
     "text": [
      "Input the radius of the circle : .5\n",
      "The area of the circle with radius 0.5 is: 0.7855\n"
     ]
    }
   ],
   "source": [
    "#1 Write a Python program which accepts the radius of a circle from the user and compute the area.\n",
    "pi = float(3.142)\n",
    "r = float(input (\"Input the radius of the circle : \"))\n",
    "print (\"The area of the circle with radius \" + str(r) + \" is: \" + str(pi * r**2))"
   ]
  },
  {
   "cell_type": "code",
   "execution_count": 3,
   "metadata": {},
   "outputs": [
    {
     "name": "stdout",
     "output_type": "stream",
     "text": [
      "Enter a number: 5\n",
      "Positive number\n"
     ]
    }
   ],
   "source": [
    "#2 Write a Python program to check if a number is positive, negative or zero\n",
    "num = float(input(\"Enter a number: \"))\n",
    "if num > 0:\n",
    "   print(\"Positive number\")\n",
    "elif num == 0:\n",
    "   print(\"Zero\")\n",
    "else:\n",
    "   print(\"Negative number\")"
   ]
  },
  {
   "cell_type": "code",
   "execution_count": 8,
   "metadata": {},
   "outputs": [
    {
     "name": "stdout",
     "output_type": "stream",
     "text": [
      "Enter Numerator: 4\n",
      "Enter Denomenator: 2\n",
      "Number 4 is Completely divisible by 2\n"
     ]
    }
   ],
   "source": [
    "#3 Write a Python program to check whether a number is completely divisible by another number. Accept two integer values form the user\n",
    "numerator = int(input(\"Enter First integer: \"))\n",
    "denominator = int(input(\"Enter Denomenator: \"))\n",
    "if numerator%denominator==0:\n",
    "    print(\"Number\",numerator, \"is Completely divisible by\",denominator)\n",
    "else:\n",
    "    print(\"Number\",numerator, \"is not Completely divided by\",denominator)"
   ]
  },
  {
   "cell_type": "code",
   "execution_count": null,
   "metadata": {
    "collapsed": true
   },
   "outputs": [
    {
     "name": "stdout",
     "output_type": "stream",
     "text": [
      "\n"
     ]
    }
   ],
   "source": [
    "#4 rite a Python program to calculate number of days between two dates\n",
    "import datetime\n",
    "from datetime import date\n",
    "def differ_days(date1, date2):\n",
    "\n",
    "    a = date1\n",
    "    b = date2\n",
    "    return (a-b).days\n",
    "print()\n",
    "date1 = (input(\"Enter First Date: \"))\n",
    "date2 = (input(\"Enter Second Date: \"))\n",
    "print(differ_days(date1), (date2))\n",
    "print()"
   ]
  },
  {
   "cell_type": "code",
   "execution_count": 27,
   "metadata": {},
   "outputs": [
    {
     "name": "stdout",
     "output_type": "stream",
     "text": [
      "   Enter value of radius: 1\n",
      "Volume of the Sphere with radius 1.0 is  4.19\n"
     ]
    }
   ],
   "source": [
    "#5 Write a Python program to get the volume of a sphere, please take the radius as input from user\n",
    "pi = float(3.142)\n",
    "r = float(input(\"   Enter value of radius: \"))\n",
    "v = round((4.0/3.0*pi*r**3),2)\n",
    "print(\"Volume of the Sphere with radius \" + str(r) + \" is  \" + str(v))"
   ]
  },
  {
   "cell_type": "code",
   "execution_count": 35,
   "metadata": {},
   "outputs": [
    {
     "name": "stdout",
     "output_type": "stream",
     "text": [
      "Enter String You Want To Print : Hello\n",
      "How Many Times You Want To Print: 3\n",
      "HelloHelloHello\n"
     ]
    }
   ],
   "source": [
    "#6 Write a Python program to get a string which is n (non-negative integer) copies of a given string\n",
    "v = str(input(\"Enter String You Want To Print : \"))\n",
    "n = int(input(\"How Many Times You Want To Print: \"))\n",
    "print(n *v)"
   ]
  },
  {
   "cell_type": "code",
   "execution_count": 39,
   "metadata": {},
   "outputs": [
    {
     "name": "stdout",
     "output_type": "stream",
     "text": [
      "Enter Number: 4\n",
      "4 is Even\n"
     ]
    }
   ],
   "source": [
    "#7 Write a Python program to find whether a given number (accept from the user) is even or odd, print out an appropriate message to the user\n",
    "num = int(input(\"Enter Number: \"))\n",
    "check = num % 2\n",
    "if check > 0:\n",
    "    print(num,\"is Odd\")\n",
    "else:\n",
    "    print(num,\"is Even\")"
   ]
  },
  {
   "cell_type": "code",
   "execution_count": 6,
   "metadata": {},
   "outputs": [
    {
     "name": "stdout",
     "output_type": "stream",
     "text": [
      "Enter any alphabeta\n",
      "a  is Vowel\n"
     ]
    }
   ],
   "source": [
    "#8 Write a Python program to test whether a passed letter is a vowel or not\n",
    "vowels=['a','e','i','o','u','A','E','I','O','U']\n",
    "alphabet = input(\"Enter any alphabet\")\n",
    "\n",
    "if alphabet in vowels:\n",
    "    print(alphabet, \" is Vowel\")\n",
    "else:\n",
    "    print(alphabet,\" is not Vowel\")"
   ]
  },
  {
   "cell_type": "code",
   "execution_count": 1,
   "metadata": {},
   "outputs": [
    {
     "name": "stdout",
     "output_type": "stream",
     "text": [
      "Enter value of base of the triangle : 4\n",
      "Enter value of height of the triangle : 4\n",
      "Area of a Triangle with Height  4.0  and Base  4.0  is:  8\n"
     ]
    }
   ],
   "source": [
    "9#Write a Python program that will accept the base and height of a triangle and compute the area\n",
    "\n",
    "b = float(input(\"Enter value of base of the triangle : \"))\n",
    "h = float(input(\"Enter value of height of the triangle : \"))\n",
    "area = int(b*h*1/2)\n",
    "print(\"Area of a Triangle with Height \",b, \" and Base \",h,\" is: \",area)"
   ]
  },
  {
   "cell_type": "code",
   "execution_count": 6,
   "metadata": {},
   "outputs": [
    {
     "name": "stdout",
     "output_type": "stream",
     "text": [
      " Enter principal amount 4444\n",
      " Enter intrest rate in percentage 2\n",
      " Enter the time in Years 6\n",
      "The future value of amount 4444 is: 4977.28\n"
     ]
    }
   ],
   "source": [
    "10 #Write a Python program to compute the future value of a specified principal amount, rate of interest, and a number of years.\n",
    "P = int(input(' Enter principal amount '))\n",
    "I = float(input(' Enter intrest rate in percentage '))\n",
    "T = int(input(' Enter the time in Years '))\n",
    "Interest = P*T*(I/100)\n",
    "TOTAL_Amount = Interest + P\n",
    "print (\"The future value of amount \" + str(P) + \" is: \" + str(TOTAL_Amount))"
   ]
  },
  {
   "cell_type": "code",
   "execution_count": 9,
   "metadata": {},
   "outputs": [
    {
     "name": "stdout",
     "output_type": "stream",
     "text": [
      "Enter Co-ordinate for x1: 5\n",
      "Enter Co-ordinate for x2: 3\n",
      "Enter Co-ordinate for y1: 6\n",
      "Enter Co-ordinate for y2: 3\n",
      "13\n"
     ]
    }
   ],
   "source": [
    "11 #Write a Python program to compute the distance between the points (x1, y1) and (x2, y2).\n",
    "import math\n",
    "x1=int(input(\"Enter Co-ordinate for x1: \"))\n",
    "x2=int(input('Enter Co-ordinate for x2: '))\n",
    "y1=int(input('Enter Co-ordinate for y1: '))\n",
    "y2=int(input('Enter Co-ordinate for y2: '))\n",
    "formula = ((x2-x1)**2)+((y2-y1)**2)\n",
    "print(formula)"
   ]
  },
  {
   "cell_type": "code",
   "execution_count": 13,
   "metadata": {},
   "outputs": [
    {
     "name": "stdout",
     "output_type": "stream",
     "text": [
      " Enter Height in feets2\n",
      "The Height  2.0  in feets will be equal to  60.96  centimeters\n"
     ]
    }
   ],
   "source": [
    "12# Write a Python program to convert height in feet to centimetres.\n",
    "h = float(input(\" Enter Height in feets\"))\n",
    "Cm = round(h * 30.48,3)\n",
    "print(\"The Height \", h , \" in feets will be equal to \", Cm ,\" centimeters\")"
   ]
  },
  {
   "cell_type": "code",
   "execution_count": 13,
   "metadata": {},
   "outputs": [
    {
     "name": "stdout",
     "output_type": "stream",
     "text": [
      " Enter Your Height in Meters 1.8\n",
      " Enter Your Weight in kg 75\n",
      "23.148\n"
     ]
    }
   ],
   "source": [
    "13# Write a Python program to calculate body mass index\n",
    "h = float(input(\" Enter Your Height in Meters \"))\n",
    "w = float(input(\" Enter Your Weight in kg \"))\n",
    "Bmi = round(w / (h * h),3)\n",
    "print (Bmi)"
   ]
  },
  {
   "cell_type": "code",
   "execution_count": 16,
   "metadata": {},
   "outputs": [
    {
     "name": "stdout",
     "output_type": "stream",
     "text": [
      "Enter the integer Value 5\n",
      "sum of numbers till 5 15.0\n"
     ]
    }
   ],
   "source": [
    "#14 Write a python program to sum of the first n positive integers\n",
    "n=int(input('Enter the integer Value '))\n",
    "total=(n/2)*(2+(n-1))\n",
    "print(\"sum of numbers till\", n ,total)"
   ]
  },
  {
   "cell_type": "code",
   "execution_count": 19,
   "metadata": {},
   "outputs": [
    {
     "name": "stdout",
     "output_type": "stream",
     "text": [
      "Please Enter any Number: 55\n",
      "\n",
      " Sum of the digits of Given Number = 10\n"
     ]
    }
   ],
   "source": [
    "#15 Write a Python program to calculate the sum of the digits in an integer\n",
    "N = int(input(\"Please Enter any Number: \"))\n",
    "S = 0\n",
    "\n",
    "while(Number > 0):\n",
    "    R= Number % 10\n",
    "    S= S + R\n",
    "    N = N //10\n",
    "\n",
    "print(\"\\n Sum of the digits of Given Number = %d\" %Sum)"
   ]
  },
  {
   "cell_type": "code",
   "execution_count": 23,
   "metadata": {},
   "outputs": [
    {
     "name": "stdout",
     "output_type": "stream",
     "text": [
      "Enter any decimal number: 5\n",
      "101"
     ]
    }
   ],
   "source": [
    "#16 Write a Python program to convert an decimal integer to binary\n",
    "def decimalToBinary(num):\n",
    "    if num > 1:\n",
    "        decimalToBinary(num // 2)\n",
    "    print(num % 2, end='')\n",
    "number = int(input(\"Enter any decimal number: \"))\n",
    "\n",
    "decimalToBinary(number)"
   ]
  },
  {
   "cell_type": "code",
   "execution_count": 24,
   "metadata": {},
   "outputs": [
    {
     "name": "stdout",
     "output_type": "stream",
     "text": [
      "Input a binary number: 101\n",
      "The decimal value of the number is 5\n"
     ]
    }
   ],
   "source": [
    "#17 Write a program to convert binary number to Decimal number\n",
    "b_num = list(input(\"Input a binary number: \"))\n",
    "value = 0\n",
    "\n",
    "for i in range(len(b_num)):\n",
    "\tdigit = b_num.pop()\n",
    "\tif digit == '1':\n",
    "\t\tvalue = value + pow(2, i)\n",
    "print(\"The decimal value of the number is\", value)"
   ]
  },
  {
   "cell_type": "code",
   "execution_count": 25,
   "metadata": {},
   "outputs": [
    {
     "name": "stdout",
     "output_type": "stream",
     "text": [
      "Enter Text Or Sentence My name is Abubakr\n",
      "The number of Vowels in this text is :  6\n",
      "The number of Consonants in this text is :  12\n"
     ]
    }
   ],
   "source": [
    "#18 Input a text and count the occurrences of vowels and consonant\n",
    "userInput = input(\"Enter Text Or Sentence \")\n",
    "vowels = 0\n",
    "consonants = 0\n",
    "for i in userInput:\n",
    "    if(i == 'a' or i == 'e' or i == 'i' or i == 'o' or i == 'u'\n",
    "       or i == 'A' or i == 'E' or i == 'I' or i == 'O' or i == 'U'):\n",
    "        vowels = vowels + 1\n",
    "    else:\n",
    "        consonants = consonants + 1\n",
    "\n",
    "print(\"The number of Vowels in this text is : \",vowels)\n",
    "print(\"The number of Consonants in this text is : \",consonants)"
   ]
  },
  {
   "cell_type": "code",
   "execution_count": 28,
   "metadata": {},
   "outputs": [
    {
     "name": "stdout",
     "output_type": "stream",
     "text": [
      "Enter Text :madam\n",
      "Text  madam  is Palindrome\n"
     ]
    }
   ],
   "source": [
    "#19 Write a program to check whether given input is palindrome or not.\n",
    "Input = input(\"Enter Text :\")\n",
    "palindrome = Input[::-1]\n",
    "if Input == palindrome:\n",
    "    print(\"Text \" , Input,\" is Palindrome\")\n",
    "else:\n",
    "    print(\"Text \" , Input,\" is not Palindrome\")"
   ]
  },
  {
   "cell_type": "code",
   "execution_count": 31,
   "metadata": {},
   "outputs": [
    {
     "name": "stdout",
     "output_type": "stream",
     "text": [
      "Input a stringThere were 2000 giraffes\n",
      "The number of Letters 17\n",
      "The number of Digits 4\n"
     ]
    }
   ],
   "source": [
    "#20 Write a Python program that accepts a string and calculate the number of digits and letters\n",
    "s = input(\"Input any Sentence \")\n",
    "d=l=0\n",
    "for c in s:\n",
    "    if c.isdigit():\n",
    "        d=d+1\n",
    "    elif c.isalpha():\n",
    "        l=l+1\n",
    "    else:\n",
    "        pass\n",
    "print(\"The number of Letters\", l)\n",
    "print(\"The number of Digits\", d)"
   ]
  },
  {
   "cell_type": "code",
   "execution_count": 34,
   "metadata": {},
   "outputs": [
    {
     "name": "stdout",
     "output_type": "stream",
     "text": [
      "\n",
      "* \n",
      "* * \n",
      "* * * \n",
      "* * * * \n",
      "* * * * * \n",
      "* * * * \n",
      "* * * \n",
      "* * \n",
      "* \n"
     ]
    }
   ],
   "source": [
    "#21 Write a Python program to construct the following pattern\n",
    "number=5;\n",
    "for i in range(number):\n",
    "    for j in range(i):\n",
    "        print ('* ', end=\"\")\n",
    "        \n",
    "    print('')\n",
    "\n",
    "for i in range(number,0,-1):\n",
    "    for j in range(i):\n",
    "        print('* ', end=\"\")\n",
    "    print('')"
   ]
  },
  {
   "cell_type": "code",
   "execution_count": 47,
   "metadata": {},
   "outputs": [
    {
     "name": "stdout",
     "output_type": "stream",
     "text": [
      "Second Number Pattern \n",
      "\n",
      "1\n",
      "12\n",
      "123\n",
      "1234\n",
      "12345\n",
      "1234\n",
      "123\n",
      "12\n",
      "1\n"
     ]
    }
   ],
   "source": [
    "#22. Write a Python program to construct the following pattern\n",
    "print(\"Second Number Pattern \")\n",
    "number=5\n",
    "random = 1\n",
    "for i in range(number):\n",
    "    for j in range(i):\n",
    "        print (j+1, end=\"\")\n",
    "    print('')\n",
    "\n",
    "for i in range(5,0,-1):\n",
    "    for j in range(i):\n",
    "        print(j+1, end=\"\")\n",
    "    print('')"
   ]
  },
  {
   "cell_type": "code",
   "execution_count": null,
   "metadata": {},
   "outputs": [],
   "source": []
  }
 ],
 "metadata": {
  "kernelspec": {
   "display_name": "Python 3",
   "language": "python",
   "name": "python3"
  },
  "language_info": {
   "codemirror_mode": {
    "name": "ipython",
    "version": 3
   },
   "file_extension": ".py",
   "mimetype": "text/x-python",
   "name": "python",
   "nbconvert_exporter": "python",
   "pygments_lexer": "ipython3",
   "version": "3.7.3"
  }
 },
 "nbformat": 4,
 "nbformat_minor": 2
}
